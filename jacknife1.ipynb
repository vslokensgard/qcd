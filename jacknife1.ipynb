{
 "cells": [
  {
   "cell_type": "code",
   "execution_count": 1,
   "id": "89b281f0",
   "metadata": {},
   "outputs": [],
   "source": [
    "from astropy.io import ascii\n",
    "from astropy import table\n",
    "from astropy.table import Table\n",
    "import numpy as np\n",
    "import os"
   ]
  },
  {
   "cell_type": "code",
   "execution_count": 94,
   "id": "16bdb87d",
   "metadata": {},
   "outputs": [],
   "source": [
    "# Read data to a timestamp x file table\n",
    "# Parameters: number of timestamps num_timestamps;\n",
    "            # number of data files num_files; \n",
    "            # names of data files txtin; \n",
    "            # name of value column colname\n",
    "# Returns: 2D NumPy array, rows representing timestamps & columns representing data files\n",
    "\n",
    "def getInputByTimestamp(num_timestamps, num_files, txtin, colname):\n",
    "    input_data = np.empty((num_timestamps, num_files))\n",
    "    \n",
    "    #for each .txt file in the directory\n",
    "    for i in range(num_files):\n",
    "        #read the current file's data table\n",
    "        current_file = ascii.read(txtin[i])\n",
    "        vals = current_file[colname]\n",
    "\n",
    "        for j in range(num_timestamps):\n",
    "            input_data[j][i] = vals[j]\n",
    "            \n",
    "    return input_data"
   ]
  },
  {
   "cell_type": "code",
   "execution_count": 95,
   "id": "f5bfefbe",
   "metadata": {},
   "outputs": [],
   "source": [
    "# Calculate list of effective masses\n",
    "\n",
    "def effectiveMass1D(num_timestamps, vals):\n",
    "    eff_mass = np.empty(num_timestamps - 1)\n",
    "    for i in range(num_timestamps - 1):\n",
    "        # TODO run NaN handling by Isaac\n",
    "        eff_mass[i] = np.log( np.abs (vals[i] / vals[i+1]) )\n",
    "        \n",
    "    return eff_mass"
   ]
  },
  {
   "cell_type": "code",
   "execution_count": 100,
   "id": "bc54072e",
   "metadata": {},
   "outputs": [],
   "source": [
    "# Calculate table of effective masses\n",
    "\n",
    "def effectiveMass2D(num_timestamps, num_files, input_data):\n",
    "    eff_mass = np.empty((num_timestamps-1, num_files))\n",
    "    eff_mass = Table(eff_mass)\n",
    "    for i in range(num_files):\n",
    "        next_col = table.Column( effectiveMass1D(num_timestamps, input_data[i]) )\n",
    "        eff_mass[i] = next_col\n",
    "        \n",
    "    return eff_mass"
   ]
  },
  {
   "cell_type": "markdown",
   "id": "dae6ab0b",
   "metadata": {},
   "source": [
    " Calculate average ρ-bar (or some function f) from the full dataset"
   ]
  },
  {
   "cell_type": "code",
   "execution_count": 97,
   "id": "0f060db0",
   "metadata": {},
   "outputs": [],
   "source": [
    "# List average values for each timestamp\n",
    "\n",
    "def averageValues(input_data):\n",
    "    num_timestamps = np.shape(input_data)[0]\n",
    "    avg_vals = np.empty(num_timestamps)\n",
    "    for i in range(num_timestamps):\n",
    "        avg_vals[i] = np.average(input_data[i])\n",
    "        \n",
    "    return avg_vals"
   ]
  },
  {
   "cell_type": "code",
   "execution_count": 98,
   "id": "378e5492",
   "metadata": {},
   "outputs": [],
   "source": [
    "def main():\n",
    "    # Parameters\n",
    "    allin = os.listdir()\n",
    "    txtin = [k for k in allin if '.txt' in k]\n",
    "    num_files = len(txtin)\n",
    "    num_timestamps = 64\n",
    "    \n",
    "    #input_data = getInput(num_timestamps, num_files, txtin, \"col5\")\n",
    "    eff_masses = effectiveMass2D(num_timestamps, num_files, input_data)\n",
    "    avg_masses = averageValues(eff_masses)\n",
    "    print(avg_masses)\n",
    "    \n",
    "    return"
   ]
  },
  {
   "cell_type": "code",
   "execution_count": 101,
   "id": "2662fbcd",
   "metadata": {},
   "outputs": [
    {
     "ename": "ValueError",
     "evalue": "right hand side must be a sequence of values with the same length as the number of selected columns",
     "output_type": "error",
     "traceback": [
      "\u001b[1;31m---------------------------------------------------------------------------\u001b[0m",
      "\u001b[1;31mAssertionError\u001b[0m                            Traceback (most recent call last)",
      "File \u001b[1;32m~\\anaconda3\\lib\\site-packages\\astropy\\table\\table.py:2883\u001b[0m, in \u001b[0;36mTable._set_row\u001b[1;34m(self, idx, colnames, vals)\u001b[0m\n\u001b[0;32m   2882\u001b[0m \u001b[38;5;28;01mtry\u001b[39;00m:\n\u001b[1;32m-> 2883\u001b[0m     \u001b[38;5;28;01massert\u001b[39;00m \u001b[38;5;28mlen\u001b[39m(vals) \u001b[38;5;241m==\u001b[39m \u001b[38;5;28mlen\u001b[39m(colnames)\n\u001b[0;32m   2884\u001b[0m \u001b[38;5;28;01mexcept\u001b[39;00m \u001b[38;5;167;01mException\u001b[39;00m:\n",
      "\u001b[1;31mAssertionError\u001b[0m: ",
      "\nDuring handling of the above exception, another exception occurred:\n",
      "\u001b[1;31mValueError\u001b[0m                                Traceback (most recent call last)",
      "Input \u001b[1;32mIn [101]\u001b[0m, in \u001b[0;36m<cell line: 1>\u001b[1;34m()\u001b[0m\n\u001b[1;32m----> 1\u001b[0m \u001b[43mmain\u001b[49m\u001b[43m(\u001b[49m\u001b[43m)\u001b[49m\n",
      "Input \u001b[1;32mIn [98]\u001b[0m, in \u001b[0;36mmain\u001b[1;34m()\u001b[0m\n\u001b[0;32m      6\u001b[0m num_timestamps \u001b[38;5;241m=\u001b[39m \u001b[38;5;241m64\u001b[39m\n\u001b[0;32m      8\u001b[0m input_data \u001b[38;5;241m=\u001b[39m getInput(num_timestamps, num_files, txtin, \u001b[38;5;124m\"\u001b[39m\u001b[38;5;124mcol5\u001b[39m\u001b[38;5;124m\"\u001b[39m)\n\u001b[1;32m----> 9\u001b[0m eff_masses \u001b[38;5;241m=\u001b[39m \u001b[43meffectiveMass2D\u001b[49m\u001b[43m(\u001b[49m\u001b[43mnum_timestamps\u001b[49m\u001b[43m,\u001b[49m\u001b[43m \u001b[49m\u001b[43mnum_files\u001b[49m\u001b[43m,\u001b[49m\u001b[43m \u001b[49m\u001b[43minput_data\u001b[49m\u001b[43m)\u001b[49m\n\u001b[0;32m     10\u001b[0m avg_masses \u001b[38;5;241m=\u001b[39m averageValues(eff_masses)\n\u001b[0;32m     11\u001b[0m \u001b[38;5;28mprint\u001b[39m(avg_masses)\n",
      "Input \u001b[1;32mIn [100]\u001b[0m, in \u001b[0;36meffectiveMass2D\u001b[1;34m(num_timestamps, num_files, input_data)\u001b[0m\n\u001b[0;32m      6\u001b[0m \u001b[38;5;28;01mfor\u001b[39;00m i \u001b[38;5;129;01min\u001b[39;00m \u001b[38;5;28mrange\u001b[39m(num_files):\n\u001b[0;32m      7\u001b[0m     next_col \u001b[38;5;241m=\u001b[39m table\u001b[38;5;241m.\u001b[39mColumn( effectiveMass1D(num_timestamps, input_data[i]) )\n\u001b[1;32m----> 8\u001b[0m     eff_mass[i] \u001b[38;5;241m=\u001b[39m next_col\n\u001b[0;32m     10\u001b[0m \u001b[38;5;28;01mreturn\u001b[39;00m eff_mass\n",
      "File \u001b[1;32m~\\anaconda3\\lib\\site-packages\\astropy\\table\\table.py:1933\u001b[0m, in \u001b[0;36mTable.__setitem__\u001b[1;34m(self, item, value)\u001b[0m\n\u001b[0;32m   1930\u001b[0m     \u001b[38;5;28mself\u001b[39m\u001b[38;5;241m.\u001b[39mcolumns[item][:] \u001b[38;5;241m=\u001b[39m value\n\u001b[0;32m   1932\u001b[0m \u001b[38;5;28;01melif\u001b[39;00m \u001b[38;5;28misinstance\u001b[39m(item, (\u001b[38;5;28mint\u001b[39m, np\u001b[38;5;241m.\u001b[39minteger)):\n\u001b[1;32m-> 1933\u001b[0m     \u001b[38;5;28;43mself\u001b[39;49m\u001b[38;5;241;43m.\u001b[39;49m\u001b[43m_set_row\u001b[49m\u001b[43m(\u001b[49m\u001b[43midx\u001b[49m\u001b[38;5;241;43m=\u001b[39;49m\u001b[43mitem\u001b[49m\u001b[43m,\u001b[49m\u001b[43m \u001b[49m\u001b[43mcolnames\u001b[49m\u001b[38;5;241;43m=\u001b[39;49m\u001b[38;5;28;43mself\u001b[39;49m\u001b[38;5;241;43m.\u001b[39;49m\u001b[43mcolnames\u001b[49m\u001b[43m,\u001b[49m\u001b[43m \u001b[49m\u001b[43mvals\u001b[49m\u001b[38;5;241;43m=\u001b[39;49m\u001b[43mvalue\u001b[49m\u001b[43m)\u001b[49m\n\u001b[0;32m   1935\u001b[0m \u001b[38;5;28;01melif\u001b[39;00m (\u001b[38;5;28misinstance\u001b[39m(item, \u001b[38;5;28mslice\u001b[39m)\n\u001b[0;32m   1936\u001b[0m       \u001b[38;5;129;01mor\u001b[39;00m \u001b[38;5;28misinstance\u001b[39m(item, np\u001b[38;5;241m.\u001b[39mndarray)\n\u001b[0;32m   1937\u001b[0m       \u001b[38;5;129;01mor\u001b[39;00m \u001b[38;5;28misinstance\u001b[39m(item, \u001b[38;5;28mlist\u001b[39m)\n\u001b[0;32m   1938\u001b[0m       \u001b[38;5;129;01mor\u001b[39;00m (\u001b[38;5;28misinstance\u001b[39m(item, \u001b[38;5;28mtuple\u001b[39m)  \u001b[38;5;66;03m# output from np.where\u001b[39;00m\n\u001b[0;32m   1939\u001b[0m           \u001b[38;5;129;01mand\u001b[39;00m \u001b[38;5;28mall\u001b[39m(\u001b[38;5;28misinstance\u001b[39m(x, np\u001b[38;5;241m.\u001b[39mndarray) \u001b[38;5;28;01mfor\u001b[39;00m x \u001b[38;5;129;01min\u001b[39;00m item))):\n\u001b[0;32m   1941\u001b[0m     \u001b[38;5;28;01mif\u001b[39;00m \u001b[38;5;28misinstance\u001b[39m(value, Table):\n",
      "File \u001b[1;32m~\\anaconda3\\lib\\site-packages\\astropy\\table\\table.py:2885\u001b[0m, in \u001b[0;36mTable._set_row\u001b[1;34m(self, idx, colnames, vals)\u001b[0m\n\u001b[0;32m   2883\u001b[0m     \u001b[38;5;28;01massert\u001b[39;00m \u001b[38;5;28mlen\u001b[39m(vals) \u001b[38;5;241m==\u001b[39m \u001b[38;5;28mlen\u001b[39m(colnames)\n\u001b[0;32m   2884\u001b[0m \u001b[38;5;28;01mexcept\u001b[39;00m \u001b[38;5;167;01mException\u001b[39;00m:\n\u001b[1;32m-> 2885\u001b[0m     \u001b[38;5;28;01mraise\u001b[39;00m \u001b[38;5;167;01mValueError\u001b[39;00m(\u001b[38;5;124m'\u001b[39m\u001b[38;5;124mright hand side must be a sequence of values with \u001b[39m\u001b[38;5;124m'\u001b[39m\n\u001b[0;32m   2886\u001b[0m                      \u001b[38;5;124m'\u001b[39m\u001b[38;5;124mthe same length as the number of selected columns\u001b[39m\u001b[38;5;124m'\u001b[39m)\n\u001b[0;32m   2888\u001b[0m \u001b[38;5;66;03m# Keep track of original values before setting each column so that\u001b[39;00m\n\u001b[0;32m   2889\u001b[0m \u001b[38;5;66;03m# setting row can be transactional.\u001b[39;00m\n\u001b[0;32m   2890\u001b[0m orig_vals \u001b[38;5;241m=\u001b[39m []\n",
      "\u001b[1;31mValueError\u001b[0m: right hand side must be a sequence of values with the same length as the number of selected columns"
     ]
    }
   ],
   "source": [
    "main()"
   ]
  },
  {
   "cell_type": "code",
   "execution_count": 87,
   "id": "4e418282",
   "metadata": {},
   "outputs": [],
   "source": [
    "# List jacknife averages for each timestamp\n",
    "# Parameters: number of timestamps num_timestamps; \n",
    "            # number of data files num_files; \n",
    "            # names of data files txtin; \n",
    "            # timestamps x input files table input_data\n",
    "# Returns: 1D NumPy array, index representing timestamp, value representing jacknife average value across files\n",
    "\n",
    "def jacknifeAverages2D(num_timestamps, num_files, input_data):\n",
    "    binned_data = np.empty(num_timestamps)\n",
    "\n",
    "    #for each bin\n",
    "    for i in range(num_timestamps):\n",
    "        running_total = 0\n",
    "\n",
    "        #for each data point\n",
    "        for j in range(num_files):\n",
    "            #copy all but one data point to a temporary array\n",
    "            current_bin = [k for k in input_data[i] if k != j]\n",
    "            #sum temporary array values\n",
    "            running_total += np.average(current_bin)\n",
    "\n",
    "        #add average \n",
    "        running_total /= (num_files)\n",
    "        binned_data[i] = running_total\n",
    "        \n",
    "    return binned_data"
   ]
  },
  {
   "cell_type": "code",
   "execution_count": null,
   "id": "9e5db4b1",
   "metadata": {},
   "outputs": [],
   "source": [
    "# Calculate average ρ¯ (or some function f) from the full dataset\n",
    "    average_vals = averageValues(num_timestamps, input_data)\n",
    "    \n",
    "    # Divide data (a, b)i into M blocks, with block length ≫ τ . This is done in order to get rid of autocorrelations; \n",
    "    # if there are no correlations, block length can be 1. For each m = 1 . . .M, take away block m and calculate \n",
    "    # the average ρ¯(m) using the data from all other blocks.\n",
    "    jack_err = jacknifeAverages(num_timestamps, num_files, input_data)\n",
    "    # Estimate the error of ρ by calculating the deviation of ρ¯(m)’s from ρ¯"
   ]
  },
  {
   "cell_type": "code",
   "execution_count": 81,
   "id": "4c0ba7eb",
   "metadata": {},
   "outputs": [
    {
     "ename": "SyntaxError",
     "evalue": "invalid syntax (1157972819.py, line 1)",
     "output_type": "error",
     "traceback": [
      "\u001b[1;36m  Input \u001b[1;32mIn [81]\u001b[1;36m\u001b[0m\n\u001b[1;33m    def calcJacknifeError(num_timestamps, means, jacknife_avgs)\u001b[0m\n\u001b[1;37m                                                               ^\u001b[0m\n\u001b[1;31mSyntaxError\u001b[0m\u001b[1;31m:\u001b[0m invalid syntax\n"
     ]
    }
   ],
   "source": [
    "def calcJacknifeError(num_timestamps, means, jacknife_avgs)"
   ]
  }
 ],
 "metadata": {
  "kernelspec": {
   "display_name": "Python 3 (ipykernel)",
   "language": "python",
   "name": "python3"
  },
  "language_info": {
   "codemirror_mode": {
    "name": "ipython",
    "version": 3
   },
   "file_extension": ".py",
   "mimetype": "text/x-python",
   "name": "python",
   "nbconvert_exporter": "python",
   "pygments_lexer": "ipython3",
   "version": "3.9.12"
  }
 },
 "nbformat": 4,
 "nbformat_minor": 5
}
