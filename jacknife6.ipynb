{
 "cells": [
  {
   "cell_type": "code",
   "execution_count": 1,
   "id": "cb778e88",
   "metadata": {},
   "outputs": [],
   "source": [
    "import pionkaon as pk\n",
    "import numpy as np\n",
    "import matplotlib.pyplot as plt"
   ]
  },
  {
   "cell_type": "code",
   "execution_count": 2,
   "id": "5c4f7413",
   "metadata": {},
   "outputs": [],
   "source": [
    "data_files = pk.searchDir([\"2pt_0\"],path=\"./2pt_data/\")\n",
    "col_names = ['t', 'px', 'py', 'pz', 'C_real']\n",
    "raw_data = pk.mergeTables(data_files, col_names, 'C_real')"
   ]
  },
  {
   "cell_type": "code",
   "execution_count": 3,
   "id": "1c7e1a00",
   "metadata": {},
   "outputs": [
    {
     "name": "stdout",
     "output_type": "stream",
     "text": [
      "Warning: binned data includes negative or zero values.\n",
      "Effective energies for these intervals will be set to 0.\n",
      "[-1, -1, -1, -1, -1, -1, -1, -1, -1, -1, -1, -1, -1, -1, -1, -1, -1, -1, -1, -1, -1, -1, -1, -1, -1, -1, -1, -1, -1, -1, -1, -1, -1, -1, -1, -1, -1, -1, -1, -1, -1, -1, -1, -1, -1, -1, -1, -1, -1, -1, -1, -1, -1, -1, -1, -1, -1, -1, -1, -1, -1, -1, -1, -1, -1, -1, -1, -1, -1, -1, -1, -1, -1, -1, -1, -1, -1, -1, -1, -1, -1, -1, -1, -1, -1, -1, -1, -1, -1, -1, -1, -1, -1, -1, -1, -1, -1, -1, -1, -1, -1, -1, -1, -1, -1, -1, -1, -1, -1, -1, -1, -1, -1, -1, -1, -1, -1, -1, -1, -1, -1, -1, -1, -1, -1, -1, -1, -1, -1, -1, -1, -1, -1, -1, -1, -1, -1, -1, -1, -1, -1, -1, -1, -1, -1, -1, -1, -1, -1, -1, -1, -1, -1, -1, -1, -1, -1, -1, -1, -1, -1, -1, -1, -1, -1, -1, -1, -1, -1, -1, -1, -1, -1, -1, -1, -1, -1, -1, -1, -1, -1, -1, -1, -1, -1, -1, -1, -1, -1, -1, -1, -1, -1, -1, -1, -1, -1, -1, -1, -1, -1, -1, -1, -1, -1, -1, -1, -1, -1, -1, -1, -1, -1, -1, -1, -1, -1, -1, -1, -1, -1, -1, -1, -1, -1, -1, -1, -1, -1, -1, -1, -1, -1, -1, -1, -1, -1, -1, -1, -1, -1, -1, -1, -1, -1, -1, -1, -1, -1, -1, -1, -1, -1, -1, -1, -1, -1, -1, -1, -1, -1, -1, -1, -1, -1, -1, -1, -1, -1, -1, -1, -1, -1, -1, -1, -1, -1, -1, -1, -1, -1, -1, -1, -1, -1, -1, -1, -1, -1, -1, -1, -1, -1, -1, -1, -1, -1, -1, -1, -1, -1, -1, -1, -1, -1, -1, -1, -1, -1, -1, -1, -1, -1, -1, -1, -1, -1, -1, -1, -1, -1, -1, -1, -1, -1, -1, -1, -1, -1, -1, -1, -1, -1, -1, -1, -1, -1, -1, -1, -1, -1, -1, -1, -1, -1, -1, -1, -1, -1, -1, -1, -1, -1, -1, -1, -1, -1, -1, -1, -1, -1, -1, -1, -1, -1, -1, -1, -1, -1, -1, -1, -1]\n"
     ]
    }
   ],
   "source": [
    "def avgGroundState(data):\n",
    "    twoptf = pk.jacknifeAverage(data)\n",
    "    energy = pk.effectiveEnergy(twoptf)\n",
    "    err = pk.jacknifeError2D(energy)\n",
    "    vals = pk.altFits2D(energy, err, mode=1, delta_fact=None)\n",
    "    print(vals)\n",
    "        \n",
    "    return\n",
    "\n",
    "avgGroundState(raw_data)\n"
   ]
  },
  {
   "cell_type": "raw",
   "id": "112460a4",
   "metadata": {},
   "source": [
    "def dispersionRelation(twopt, mass, momenta, L=32, a=1):\n",
    "    e2 = np.square(twopt * a)\n",
    "    m2 = np.square(mass * a)\n",
    "    p_fact = 2 * np.pi / L\n",
    "    p2 = np.square(p_fact * momenta)\n",
    "    \n",
    "    plt.xlabel(p2)\n",
    "    plt.scatter(x, y)\n",
    "    plt.errorbar(x, y, yerr=e, fmt=\"o\")\n",
    "    plt.axvline(x=min_slice, linestyle=\"dashed\")\n",
    "    plt.axhline(y=plat_fit, linestyle=\"solid\")\n",
    "    plt.axhline(y=plat_fit-plat_err, linestyle=\":\")\n",
    "    plt.axhline(y=plat_fit+plat_err, linestyle=\":\")\n",
    "    plt.show()\n",
    "    "
   ]
  }
 ],
 "metadata": {
  "kernelspec": {
   "display_name": "Python 3 (ipykernel)",
   "language": "python",
   "name": "python3"
  },
  "language_info": {
   "codemirror_mode": {
    "name": "ipython",
    "version": 3
   },
   "file_extension": ".py",
   "mimetype": "text/x-python",
   "name": "python",
   "nbconvert_exporter": "python",
   "pygments_lexer": "ipython3",
   "version": "3.9.12"
  }
 },
 "nbformat": 4,
 "nbformat_minor": 5
}
