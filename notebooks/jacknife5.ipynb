{
 "cells": [
  {
   "cell_type": "code",
   "execution_count": 1,
   "id": "d5820238",
   "metadata": {},
   "outputs": [
    {
     "name": "stdout",
     "output_type": "stream",
     "text": [
      "Warning: binned data includes negative or zero values.\n",
      "Effective energies for these intervals will be set to 0.\n"
     ]
    }
   ],
   "source": [
    "import weighquarks as wq\n",
    "import numpy as np\n",
    "import matplotlib.pyplot as plt\n",
    "\n",
    "data_files = wq.filesFromDir([\"2pt_0\"],path=\"./2pt_data/\")\n",
    "col_names = ['t', 'px', 'py', 'pz', 'C_real']\n",
    "raw_data = wq.mergeTables(data_files, col_names, 'C_real')\n",
    "binned_data = wq.jacknifeBinData(raw_data)\n",
    "binned_energy = wq.effectiveEnergy(binned_data)\n",
    "jack_err = wq.jacknifeError(binned_energy)\n",
    "fits = listFits(binned_energy, jack_err, selected_bins=list(range(5)))"
   ]
  }
 ],
 "metadata": {
  "kernelspec": {
   "display_name": "Python 3 (ipykernel)",
   "language": "python",
   "name": "python3"
  },
  "language_info": {
   "codemirror_mode": {
    "name": "ipython",
    "version": 3
   },
   "file_extension": ".py",
   "mimetype": "text/x-python",
   "name": "python",
   "nbconvert_exporter": "python",
   "pygments_lexer": "ipython3",
   "version": "3.9.12"
  }
 },
 "nbformat": 4,
 "nbformat_minor": 5
}
