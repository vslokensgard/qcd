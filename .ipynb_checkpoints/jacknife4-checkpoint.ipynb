{
 "cells": [
  {
   "cell_type": "code",
   "execution_count": 1,
   "id": "47bbfedc",
   "metadata": {},
   "outputs": [],
   "source": [
    "import weighquarks as wq\n",
    "import numpy as np\n",
    "import matplotlib.pyplot as plt"
   ]
  },
  {
   "cell_type": "code",
   "execution_count": 2,
   "id": "882ee87d",
   "metadata": {},
   "outputs": [],
   "source": [
    "data_files = wq.filesFromDir([\"2pt_0\"],path=\"./2pt_data/\")\n",
    "col_names = ['t', 'px', 'py', 'pz', 'C_real']\n",
    "raw_data = wq.mergeTables(data_files, col_names, 'C_real')"
   ]
  },
  {
   "cell_type": "code",
   "execution_count": 3,
   "id": "d0870ed4",
   "metadata": {},
   "outputs": [],
   "source": [
    "binned_data = wq.jacknifeBinData(raw_data)"
   ]
  },
  {
   "cell_type": "code",
   "execution_count": 4,
   "id": "af88639f",
   "metadata": {},
   "outputs": [
    {
     "name": "stdout",
     "output_type": "stream",
     "text": [
      "Warning: binned data includes negative or zero values.\n",
      "Effective energies for these intervals will be set to 0.\n"
     ]
    }
   ],
   "source": [
    "binned_energy = wq.effectiveEnergy(binned_data)"
   ]
  },
  {
   "cell_type": "code",
   "execution_count": 5,
   "id": "2629a846",
   "metadata": {},
   "outputs": [
    {
     "name": "stdout",
     "output_type": "stream",
     "text": [
      "0.38070277074455394\n"
     ]
    }
   ],
   "source": [
    "jack_err = wq.jacknifeError(binned_energy)"
   ]
  },
  {
   "cell_type": "code",
   "execution_count": 8,
   "id": "536118f7",
   "metadata": {},
   "outputs": [],
   "source": [
    "def maxSlice(jacknife_err, max_fact):\n",
    "    starting_length = len(jacknife_err)\n",
    "    err_threshold = jacknife_err[1] * max_fact\n",
    "    \n",
    "    for i in range(1, starting_length):\n",
    "        if jacknife_err[i] > err_threshold:\n",
    "            break\n",
    "    \n",
    "    if i < 5:\n",
    "        i = 5\n",
    "        \n",
    "    return i"
   ]
  },
  {
   "cell_type": "code",
   "execution_count": 14,
   "id": "89efd677",
   "metadata": {},
   "outputs": [],
   "source": [
    "def graphBins(eff_energies, jack_error, err_cutoff=None):\n",
    "    energies_by_bin = np.transpose(eff_energies)  \n",
    "    num_bins, num_intervals = energies_by_bin.shape\n",
    "\n",
    "    min_slice = 1\n",
    "    if err_cutoff:\n",
    "        max_slice = maxSlice(jack_error, err_cutoff)\n",
    "    else:\n",
    "        max_slice = num_intervals\n",
    "    \n",
    "    x = range(min_slice, max_slice)\n",
    "    jack_error = jack_error[min_slice:max_slice]\n",
    "    \n",
    "    for bin_no in range(num_bins):\n",
    "        y = energies_by_bin[bin_no][min_slice:max_slice]\n",
    "        plt.scatter(x, y)\n",
    "        plt.errorbar(x, y, yerr=jack_error, fmt=\"o\")\n",
    "        plt.show()\n",
    "        \n",
    "    return"
   ]
  },
  {
   "cell_type": "code",
   "execution_count": null,
   "id": "d2bc6bd2",
   "metadata": {},
   "outputs": [],
   "source": [
    "graphBins(binned_energy, jack_err, err_cutoff=5)"
   ]
  },
  {
   "cell_type": "code",
   "execution_count": 15,
   "id": "fd170ea9",
   "metadata": {},
   "outputs": [],
   "source": [
    "def idPlateau(ycoords, yerr, length=3):\n",
    "    num_coords = len(ycoords)\n",
    "    i = 1\n",
    "    count = 0\n",
    "    max_err = 0\n",
    "    min_err = 0\n",
    "    \n",
    "    while i < num_coords:\n",
    "        if count == length:\n",
    "            print (i)\n",
    "            return i\n",
    "        \n",
    "        else:\n",
    "            if (max_err - min_err) > 0:\n",
    "                curr_max = ycoords[i] + yerr[i]\n",
    "                curr_min = ycoords[i] - yerr[i]\n",
    "                if max_err > curr_max:\n",
    "                    max_err = curr_max\n",
    "                if min_err < curr_min:\n",
    "                    min_err = curr_min\n",
    "                i += 1\n",
    "                count += 1\n",
    "                \n",
    "            else:\n",
    "                i -= count\n",
    "                i += 1\n",
    "                curr_max = ycoords[i] + yerr[i]\n",
    "                curr_min = ycoords[i] - yerr[i]\n",
    "                max_err = curr_max\n",
    "                min_err = curr_min\n",
    "                count = 0\n",
    "\n",
    "    return None"
   ]
  }
 ],
 "metadata": {
  "kernelspec": {
   "display_name": "Python 3 (ipykernel)",
   "language": "python",
   "name": "python3"
  },
  "language_info": {
   "codemirror_mode": {
    "name": "ipython",
    "version": 3
   },
   "file_extension": ".py",
   "mimetype": "text/x-python",
   "name": "python",
   "nbconvert_exporter": "python",
   "pygments_lexer": "ipython3",
   "version": "3.9.12"
  }
 },
 "nbformat": 4,
 "nbformat_minor": 5
}
