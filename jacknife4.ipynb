{
 "cells": [
  {
   "cell_type": "code",
   "execution_count": 13,
   "id": "47bbfedc",
   "metadata": {},
   "outputs": [],
   "source": [
    "import weighquarks as wq\n",
    "import numpy as np\n",
    "import matplotlib.pyplot as plt"
   ]
  },
  {
   "cell_type": "code",
   "execution_count": 14,
   "id": "882ee87d",
   "metadata": {},
   "outputs": [],
   "source": [
    "data_files = wq.filesFromDir([\"2pt_0\"],path=\"./2pt_data/\")\n",
    "col_names = ['t', 'px', 'py', 'pz', 'C_real']\n",
    "raw_data = wq.mergeTables(data_files, col_names, 'C_real')"
   ]
  },
  {
   "cell_type": "code",
   "execution_count": 15,
   "id": "d0870ed4",
   "metadata": {},
   "outputs": [],
   "source": [
    "binned_data = wq.jacknifeBinData(raw_data)"
   ]
  },
  {
   "cell_type": "code",
   "execution_count": 16,
   "id": "af88639f",
   "metadata": {},
   "outputs": [
    {
     "name": "stdout",
     "output_type": "stream",
     "text": [
      "Warning: binned data includes negative or zero values.\n",
      "Effective energies for these intervals will be set to 0.\n"
     ]
    }
   ],
   "source": [
    "binned_energy = wq.effectiveEnergy(binned_data)"
   ]
  },
  {
   "cell_type": "code",
   "execution_count": 17,
   "id": "2629a846",
   "metadata": {},
   "outputs": [],
   "source": [
    "jack_err = wq.jacknifeError(binned_energy)"
   ]
  },
  {
   "cell_type": "code",
   "execution_count": 18,
   "id": "d2bc6bd2",
   "metadata": {},
   "outputs": [
    {
     "ename": "AttributeError",
     "evalue": "module 'weighquarks' has no attribute 'graphBins'",
     "output_type": "error",
     "traceback": [
      "\u001b[1;31m---------------------------------------------------------------------------\u001b[0m",
      "\u001b[1;31mAttributeError\u001b[0m                            Traceback (most recent call last)",
      "Input \u001b[1;32mIn [18]\u001b[0m, in \u001b[0;36m<cell line: 1>\u001b[1;34m()\u001b[0m\n\u001b[1;32m----> 1\u001b[0m \u001b[43mwq\u001b[49m\u001b[38;5;241;43m.\u001b[39;49m\u001b[43mgraphBins\u001b[49m(binned_energy, jack_err, err_cutoff\u001b[38;5;241m=\u001b[39m\u001b[38;5;241m10\u001b[39m, selected_bins\u001b[38;5;241m=\u001b[39m[\u001b[38;5;241m1\u001b[39m,\u001b[38;5;241m5\u001b[39m,\u001b[38;5;241m8\u001b[39m])\n",
      "\u001b[1;31mAttributeError\u001b[0m: module 'weighquarks' has no attribute 'graphBins'"
     ]
    }
   ],
   "source": [
    "wq.graphBins(binned_energy, jack_err, err_cutoff=10, selected_bins=[1,5,8])"
   ]
  },
  {
   "cell_type": "code",
   "execution_count": 15,
   "id": "fd170ea9",
   "metadata": {},
   "outputs": [],
   "source": [
    "def idPlateau(ycoords, yerr, length=3):\n",
    "    num_coords = len(ycoords)\n",
    "    i = 1\n",
    "    count = 0\n",
    "    max_err = 0\n",
    "    min_err = 0\n",
    "    \n",
    "    while i < num_coords:\n",
    "        if count == length:\n",
    "            print (i)\n",
    "            return i\n",
    "        \n",
    "        else:\n",
    "            if (max_err - min_err) > 0:\n",
    "                curr_max = ycoords[i] + yerr[i]\n",
    "                curr_min = ycoords[i] - yerr[i]\n",
    "                if max_err > curr_max:\n",
    "                    max_err = curr_max\n",
    "                if min_err < curr_min:\n",
    "                    min_err = curr_min\n",
    "                i += 1\n",
    "                count += 1\n",
    "                \n",
    "            else:\n",
    "                i -= count\n",
    "                i += 1\n",
    "                curr_max = ycoords[i] + yerr[i]\n",
    "                curr_min = ycoords[i] - yerr[i]\n",
    "                max_err = curr_max\n",
    "                min_err = curr_min\n",
    "                count = 0\n",
    "\n",
    "    return None"
   ]
  }
 ],
 "metadata": {
  "kernelspec": {
   "display_name": "Python 3 (ipykernel)",
   "language": "python",
   "name": "python3"
  },
  "language_info": {
   "codemirror_mode": {
    "name": "ipython",
    "version": 3
   },
   "file_extension": ".py",
   "mimetype": "text/x-python",
   "name": "python",
   "nbconvert_exporter": "python",
   "pygments_lexer": "ipython3",
   "version": "3.9.12"
  }
 },
 "nbformat": 4,
 "nbformat_minor": 5
}
