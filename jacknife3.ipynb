{
 "cells": [
  {
   "cell_type": "code",
   "execution_count": 5,
   "id": "de6771fb",
   "metadata": {},
   "outputs": [],
   "source": [
    "from astropy.io import ascii\n",
    "from astropy import table\n",
    "from astropy.table import Table\n",
    "from astropy.table import Column\n",
    "import numpy as np\n",
    "import matplotlib.pyplot as plt\n",
    "import os"
   ]
  },
  {
   "cell_type": "code",
   "execution_count": 10,
   "id": "363c9419",
   "metadata": {},
   "outputs": [],
   "source": [
    "# Purpose:    extract file names containing keyword strings from a directory\n",
    "# Parameters: list of keyword strings KEYWORDS\n",
    "#             optional directory path string PATH\n",
    "#             if no PATH given, searches the current directory\n",
    "# Returns:    list of file name strings matching keywords in directory\n",
    "\n",
    "def filesFromDir(keywords, path=None):\n",
    "    if path:\n",
    "        all_files = os.listdir(path)\n",
    "    else:\n",
    "        all_files = os.listdir()\n",
    "    \n",
    "    subset = [k for k in all_files if any(keyword in k for keyword in keywords)]\n",
    "    return subset"
   ]
  },
  {
   "cell_type": "code",
   "execution_count": 11,
   "id": "aa1ccfd5",
   "metadata": {},
   "outputs": [
    {
     "name": "stdout",
     "output_type": "stream",
     "text": [
      "['2pt_0_0508.txt', '2pt_0_0512.txt']\n"
     ]
    }
   ],
   "source": [
    "print(subset)"
   ]
  },
  {
   "cell_type": "code",
   "execution_count": 210,
   "id": "733ba85f",
   "metadata": {},
   "outputs": [],
   "source": [
    "# Purpose:    read list of input files to single data table\n",
    "# Parameters: list of file names to read FILE_LIST;\n",
    "#             list of table column name strings NAMES;\n",
    "#             string name of selected column SELECTED\n",
    "# Returns:    NumPy table of input data\n",
    "#             Columns represent input files\n",
    "#             Rows represent time slices\n",
    "\n",
    "def mergeTables(file_list, names, selected):\n",
    "    merged = []\n",
    "    \n",
    "    # Add selected columns from each file to a single table \n",
    "    for i in range(len(file_list)):\n",
    "        current_file = ascii.read(file_list[i])\n",
    "        current_table = Table(data=current_file, names=names)\n",
    "        trial_data = Column(data=current_table[selected], name=str(i)).data\n",
    "        merged.append(trial_data)\n",
    "    \n",
    "    return np.transpose(np.asarray(merged))"
   ]
  },
  {
   "cell_type": "code",
   "execution_count": 211,
   "id": "b5f83871",
   "metadata": {},
   "outputs": [],
   "source": [
    "# Purpose:    calculate table of jacknife bins for input data\n",
    "# Parameters: NumPy table DATA:\n",
    "#             Columns represent trials\n",
    "#             Rows represent time slices\n",
    "# Returns:    NumPy table\n",
    "#             Columns represent jacknife bins\n",
    "#             Rows represent time slices\n",
    "\n",
    "def jacknifeBinData(data):\n",
    "    binned = np.copy(data)\n",
    "    num_slices, num_bins = data.shape\n",
    "    \n",
    "    for i in range(num_slices):\n",
    "        row_sum = np.sum(data[i])\n",
    "        \n",
    "        for j in range(num_bins):\n",
    "            binned[i][j] = row_sum - data[i][j] / num_bins\n",
    "      \n",
    "    return binned"
   ]
  },
  {
   "cell_type": "code",
   "execution_count": 212,
   "id": "051f5e72",
   "metadata": {},
   "outputs": [],
   "source": [
    "# Purpose:    calculate effective energy from 2-point function values\n",
    "# Parameters: NumPy table BINS:\n",
    "#             Columns represent jacknife bin values of 2-point function\n",
    "#             Rows represent time slices\n",
    "# Returns:    NumPy table\n",
    "#             Columns represent jacknife bin values for effective energy\n",
    "#             Rows represent time slices\n",
    "\n",
    "def effectiveEnergy(bins):\n",
    "    num_intervals = bins.shape[0] - 1\n",
    "    num_bins = bins.shape[1]\n",
    "    in_by_bin = np.transpose(bins)\n",
    "    out_by_bin = np.zeros((num_bins, num_intervals))\n",
    "    \n",
    "    if (np.any(in_by_bin <= 0)):\n",
    "        print(\"Warning: binned data includes negative or zero values.\")\n",
    "        print(\"Effective energies for these intervals will be set to 0.\")\n",
    "    \n",
    "    for bin_no in range(num_bins):\n",
    "        \n",
    "        for int_no in range(num_intervals):\n",
    "            if (in_by_bin[bin_no][int_no] <= 0) or (in_by_bin[bin_no][int_no+1] <= 0):\n",
    "                out_by_bin[bin_no][int_no] = 0\n",
    "            else:\n",
    "                out_by_bin[bin_no][int_no] = np.log(in_by_bin[bin_no][int_no] / in_by_bin[bin_no][int_no+1])\n",
    "                \n",
    "    return np.transpose(out_by_bin)"
   ]
  },
  {
   "cell_type": "code",
   "execution_count": 213,
   "id": "0190ed4d",
   "metadata": {},
   "outputs": [],
   "source": [
    "# Purpose:    average values over table columns\n",
    "# Parameters: NumPy table VALS:\n",
    "#             Columns of values to be averaged\n",
    "#             Rows represent time slices\n",
    "# Returns:    1D NumPy array\n",
    "#             Lists mean values of each input row\n",
    "\n",
    "def averageColumns(vals):\n",
    "    num_intervals, num_trials = vals.shape\n",
    "    avg = np.sum(vals, axis=1)\n",
    "    avg /= num_trials\n",
    "    \n",
    "    return avg"
   ]
  },
  {
   "cell_type": "code",
   "execution_count": 214,
   "id": "4804d438",
   "metadata": {},
   "outputs": [
    {
     "name": "stdout",
     "output_type": "stream",
     "text": [
      "Warning: binned data includes negative or zero values.\n",
      "Effective energies for these intervals will be set to 0.\n",
      "(63,)\n"
     ]
    }
   ],
   "source": [
    "def jacknifeError(binned_data):\n",
    "    \n",
    "    return\n",
    "\n",
    "def graphBins(eff_energies):\n",
    "    jack_error = jacknifeError(eff_energies)\n",
    "    energies_by_bin = np.transpose(eff_energies)\n",
    "    num_bins, num_intervals = energies_by_bin.shape\n",
    "    x = range(num_intervals)\n",
    "    \n",
    "    for bin_no in range(num_bins):\n",
    "        y = energies_by_bin[bin_no]\n",
    "        plt.scatter(x,y)\n",
    "        #plt.errorbar(x,y,yerr=jack_error)\n",
    "        plt.show()\n",
    "        \n",
    "    return\n",
    "    \n",
    "def main():\n",
    "    \n",
    "    col_names = ['t', 'px', 'py', 'pz', 'C_real']\n",
    "    data = mergeTables(subset, col_names, 'C_real')\n",
    "    binned_data = jacknifeBinData(data)\n",
    "    binned_energy = effectiveEnergy(binned_data)\n",
    "    avg_energy = averageEnergy(binned_energy)\n",
    "    #graphBins(binned_energy)\n",
    "    \n",
    "main()"
   ]
  }
 ],
 "metadata": {
  "kernelspec": {
   "display_name": "Python 3 (ipykernel)",
   "language": "python",
   "name": "python3"
  },
  "language_info": {
   "codemirror_mode": {
    "name": "ipython",
    "version": 3
   },
   "file_extension": ".py",
   "mimetype": "text/x-python",
   "name": "python",
   "nbconvert_exporter": "python",
   "pygments_lexer": "ipython3",
   "version": "3.9.12"
  }
 },
 "nbformat": 4,
 "nbformat_minor": 5
}
