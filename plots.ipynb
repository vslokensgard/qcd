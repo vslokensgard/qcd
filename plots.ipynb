{
 "cells": [
  {
   "cell_type": "code",
   "execution_count": 1,
   "id": "d18fd6ce",
   "metadata": {},
   "outputs": [],
   "source": [
    "import numpy as np\n",
    "import matplotlib.pyplot as plt"
   ]
  },
  {
   "cell_type": "code",
   "execution_count": 2,
   "id": "53d1ab99",
   "metadata": {},
   "outputs": [],
   "source": [
    "results = [ [0.000000000000000000e+00, -2.693150061912211526e-03, 3.955078992776073048e-03],\n",
    "            [1.000000000000000000e+00, 2.329112154640903820e-01, 6.412337693030964372e-04],\n",
    "            [2.000000000000000000e+00, 4.193647563374773846e-01, 5.543543019875749218e-03],\n",
    "            [3.000000000000000000e+00, 6.417364514621484162e-01, 4.000232364799019384e-03],\n",
    "            [4.000000000000000000e+00, 8.095543619676415226e-01, 7.369842390462781612e-03]   ]"
   ]
  },
  {
   "cell_type": "code",
   "execution_count": 3,
   "id": "5f0aaa88",
   "metadata": {},
   "outputs": [],
   "source": [
    "by_param = np.transpose(np.array(results))"
   ]
  },
  {
   "cell_type": "code",
   "execution_count": 4,
   "id": "5645861b",
   "metadata": {},
   "outputs": [
    {
     "name": "stdout",
     "output_type": "stream",
     "text": [
      "[[ 0.00000000e+00  1.00000000e+00  2.00000000e+00  3.00000000e+00\n",
      "   4.00000000e+00]\n",
      " [-2.69315006e-03  2.32911215e-01  4.19364756e-01  6.41736451e-01\n",
      "   8.09554362e-01]\n",
      " [ 3.95507899e-03  6.41233769e-04  5.54354302e-03  4.00023236e-03\n",
      "   7.36984239e-03]]\n"
     ]
    }
   ],
   "source": [
    "print(by_param)"
   ]
  },
  {
   "cell_type": "code",
   "execution_count": 5,
   "id": "01c2862c",
   "metadata": {},
   "outputs": [],
   "source": [
    "x = by_param[0]\n",
    "y = by_param[1]\n",
    "e = by_param[2]"
   ]
  },
  {
   "cell_type": "code",
   "execution_count": 6,
   "id": "2ec4c3b3",
   "metadata": {},
   "outputs": [
    {
     "data": {
      "image/png": "[encoded data removed]",
      "text/plain": [
       "<Figure size 432x288 with 1 Axes>"
      ]
     },
     "metadata": {
      "needs_background": "light"
     },
     "output_type": "display_data"
    }
   ],
   "source": [
    "plt.scatter(x, y)\n",
    "plt.errorbar(x, y, yerr=e, fmt=\"o\")\n",
    "plt.show()"
   ]
  }
 ],
 "metadata": {
  "kernelspec": {
   "display_name": "Python 3 (ipykernel)",
   "language": "python",
   "name": "python3"
  },
  "language_info": {
   "codemirror_mode": {
    "name": "ipython",
    "version": 3
   },
   "file_extension": ".py",
   "mimetype": "text/x-python",
   "name": "python",
   "nbconvert_exporter": "python",
   "pygments_lexer": "ipython3",
   "version": "3.9.12"
  }
 },
 "nbformat": 4,
 "nbformat_minor": 5
}
